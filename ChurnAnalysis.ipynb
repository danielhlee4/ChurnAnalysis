{
 "cells": [
  {
   "cell_type": "code",
   "execution_count": 1,
   "metadata": {},
   "outputs": [],
   "source": [
    "import pandas as pd\n",
    "import numpy as np\n",
    "\n",
    "import matplotlib.pyplot as plt\n",
    "import seaborn as sns\n",
    "\n",
    "from sklearn.preprocessing import StandardScaler, OneHotEncoder, MinMaxScaler\n",
    "from sklearn.linear_model import LogisticRegression\n",
    "from sklearn.model_selection import train_test_split\n",
    "\n",
    "from sklearn.metrics import accuracy_score, balanced_accuracy_score\n",
    "from sklearn.metrics import recall_score, precision_score, f1_score\n",
    "from sklearn.metrics import confusion_matrix\n",
    "from sklearn.metrics import plot_confusion_matrix # New to version 0.22.2\n",
    "from sklearn.metrics import roc_auc_score, plot_roc_curve"
   ]
  },
  {
   "cell_type": "code",
   "execution_count": 2,
   "metadata": {
    "scrolled": true
   },
   "outputs": [],
   "source": [
    "df = pd.read_csv('data/churn.csv')"
   ]
  },
  {
   "cell_type": "code",
   "execution_count": 3,
   "metadata": {},
   "outputs": [
    {
     "data": {
      "text/html": [
       "<div>\n",
       "<style scoped>\n",
       "    .dataframe tbody tr th:only-of-type {\n",
       "        vertical-align: middle;\n",
       "    }\n",
       "\n",
       "    .dataframe tbody tr th {\n",
       "        vertical-align: top;\n",
       "    }\n",
       "\n",
       "    .dataframe thead th {\n",
       "        text-align: right;\n",
       "    }\n",
       "</style>\n",
       "<table border=\"1\" class=\"dataframe\">\n",
       "  <thead>\n",
       "    <tr style=\"text-align: right;\">\n",
       "      <th></th>\n",
       "      <th>state</th>\n",
       "      <th>account length</th>\n",
       "      <th>area code</th>\n",
       "      <th>phone number</th>\n",
       "      <th>international plan</th>\n",
       "      <th>voice mail plan</th>\n",
       "      <th>number vmail messages</th>\n",
       "      <th>total day minutes</th>\n",
       "      <th>total day calls</th>\n",
       "      <th>total day charge</th>\n",
       "      <th>...</th>\n",
       "      <th>total eve calls</th>\n",
       "      <th>total eve charge</th>\n",
       "      <th>total night minutes</th>\n",
       "      <th>total night calls</th>\n",
       "      <th>total night charge</th>\n",
       "      <th>total intl minutes</th>\n",
       "      <th>total intl calls</th>\n",
       "      <th>total intl charge</th>\n",
       "      <th>customer service calls</th>\n",
       "      <th>churn</th>\n",
       "    </tr>\n",
       "  </thead>\n",
       "  <tbody>\n",
       "    <tr>\n",
       "      <th>0</th>\n",
       "      <td>KS</td>\n",
       "      <td>128</td>\n",
       "      <td>415</td>\n",
       "      <td>382-4657</td>\n",
       "      <td>no</td>\n",
       "      <td>yes</td>\n",
       "      <td>25</td>\n",
       "      <td>265.1</td>\n",
       "      <td>110</td>\n",
       "      <td>45.07</td>\n",
       "      <td>...</td>\n",
       "      <td>99</td>\n",
       "      <td>16.78</td>\n",
       "      <td>244.7</td>\n",
       "      <td>91</td>\n",
       "      <td>11.01</td>\n",
       "      <td>10.0</td>\n",
       "      <td>3</td>\n",
       "      <td>2.70</td>\n",
       "      <td>1</td>\n",
       "      <td>False</td>\n",
       "    </tr>\n",
       "    <tr>\n",
       "      <th>1</th>\n",
       "      <td>OH</td>\n",
       "      <td>107</td>\n",
       "      <td>415</td>\n",
       "      <td>371-7191</td>\n",
       "      <td>no</td>\n",
       "      <td>yes</td>\n",
       "      <td>26</td>\n",
       "      <td>161.6</td>\n",
       "      <td>123</td>\n",
       "      <td>27.47</td>\n",
       "      <td>...</td>\n",
       "      <td>103</td>\n",
       "      <td>16.62</td>\n",
       "      <td>254.4</td>\n",
       "      <td>103</td>\n",
       "      <td>11.45</td>\n",
       "      <td>13.7</td>\n",
       "      <td>3</td>\n",
       "      <td>3.70</td>\n",
       "      <td>1</td>\n",
       "      <td>False</td>\n",
       "    </tr>\n",
       "    <tr>\n",
       "      <th>2</th>\n",
       "      <td>NJ</td>\n",
       "      <td>137</td>\n",
       "      <td>415</td>\n",
       "      <td>358-1921</td>\n",
       "      <td>no</td>\n",
       "      <td>no</td>\n",
       "      <td>0</td>\n",
       "      <td>243.4</td>\n",
       "      <td>114</td>\n",
       "      <td>41.38</td>\n",
       "      <td>...</td>\n",
       "      <td>110</td>\n",
       "      <td>10.30</td>\n",
       "      <td>162.6</td>\n",
       "      <td>104</td>\n",
       "      <td>7.32</td>\n",
       "      <td>12.2</td>\n",
       "      <td>5</td>\n",
       "      <td>3.29</td>\n",
       "      <td>0</td>\n",
       "      <td>False</td>\n",
       "    </tr>\n",
       "    <tr>\n",
       "      <th>3</th>\n",
       "      <td>OH</td>\n",
       "      <td>84</td>\n",
       "      <td>408</td>\n",
       "      <td>375-9999</td>\n",
       "      <td>yes</td>\n",
       "      <td>no</td>\n",
       "      <td>0</td>\n",
       "      <td>299.4</td>\n",
       "      <td>71</td>\n",
       "      <td>50.90</td>\n",
       "      <td>...</td>\n",
       "      <td>88</td>\n",
       "      <td>5.26</td>\n",
       "      <td>196.9</td>\n",
       "      <td>89</td>\n",
       "      <td>8.86</td>\n",
       "      <td>6.6</td>\n",
       "      <td>7</td>\n",
       "      <td>1.78</td>\n",
       "      <td>2</td>\n",
       "      <td>False</td>\n",
       "    </tr>\n",
       "    <tr>\n",
       "      <th>4</th>\n",
       "      <td>OK</td>\n",
       "      <td>75</td>\n",
       "      <td>415</td>\n",
       "      <td>330-6626</td>\n",
       "      <td>yes</td>\n",
       "      <td>no</td>\n",
       "      <td>0</td>\n",
       "      <td>166.7</td>\n",
       "      <td>113</td>\n",
       "      <td>28.34</td>\n",
       "      <td>...</td>\n",
       "      <td>122</td>\n",
       "      <td>12.61</td>\n",
       "      <td>186.9</td>\n",
       "      <td>121</td>\n",
       "      <td>8.41</td>\n",
       "      <td>10.1</td>\n",
       "      <td>3</td>\n",
       "      <td>2.73</td>\n",
       "      <td>3</td>\n",
       "      <td>False</td>\n",
       "    </tr>\n",
       "  </tbody>\n",
       "</table>\n",
       "<p>5 rows × 21 columns</p>\n",
       "</div>"
      ],
      "text/plain": [
       "  state  account length  area code phone number international plan  \\\n",
       "0    KS             128        415     382-4657                 no   \n",
       "1    OH             107        415     371-7191                 no   \n",
       "2    NJ             137        415     358-1921                 no   \n",
       "3    OH              84        408     375-9999                yes   \n",
       "4    OK              75        415     330-6626                yes   \n",
       "\n",
       "  voice mail plan  number vmail messages  total day minutes  total day calls  \\\n",
       "0             yes                     25              265.1              110   \n",
       "1             yes                     26              161.6              123   \n",
       "2              no                      0              243.4              114   \n",
       "3              no                      0              299.4               71   \n",
       "4              no                      0              166.7              113   \n",
       "\n",
       "   total day charge  ...  total eve calls  total eve charge  \\\n",
       "0             45.07  ...               99             16.78   \n",
       "1             27.47  ...              103             16.62   \n",
       "2             41.38  ...              110             10.30   \n",
       "3             50.90  ...               88              5.26   \n",
       "4             28.34  ...              122             12.61   \n",
       "\n",
       "   total night minutes  total night calls  total night charge  \\\n",
       "0                244.7                 91               11.01   \n",
       "1                254.4                103               11.45   \n",
       "2                162.6                104                7.32   \n",
       "3                196.9                 89                8.86   \n",
       "4                186.9                121                8.41   \n",
       "\n",
       "   total intl minutes  total intl calls  total intl charge  \\\n",
       "0                10.0                 3               2.70   \n",
       "1                13.7                 3               3.70   \n",
       "2                12.2                 5               3.29   \n",
       "3                 6.6                 7               1.78   \n",
       "4                10.1                 3               2.73   \n",
       "\n",
       "   customer service calls  churn  \n",
       "0                       1  False  \n",
       "1                       1  False  \n",
       "2                       0  False  \n",
       "3                       2  False  \n",
       "4                       3  False  \n",
       "\n",
       "[5 rows x 21 columns]"
      ]
     },
     "execution_count": 3,
     "metadata": {},
     "output_type": "execute_result"
    }
   ],
   "source": [
    "df.head()"
   ]
  },
  {
   "cell_type": "code",
   "execution_count": 4,
   "metadata": {
    "scrolled": true
   },
   "outputs": [
    {
     "name": "stdout",
     "output_type": "stream",
     "text": [
      "<class 'pandas.core.frame.DataFrame'>\n",
      "RangeIndex: 3333 entries, 0 to 3332\n",
      "Data columns (total 21 columns):\n",
      " #   Column                  Non-Null Count  Dtype  \n",
      "---  ------                  --------------  -----  \n",
      " 0   state                   3333 non-null   object \n",
      " 1   account length          3333 non-null   int64  \n",
      " 2   area code               3333 non-null   int64  \n",
      " 3   phone number            3333 non-null   object \n",
      " 4   international plan      3333 non-null   object \n",
      " 5   voice mail plan         3333 non-null   object \n",
      " 6   number vmail messages   3333 non-null   int64  \n",
      " 7   total day minutes       3333 non-null   float64\n",
      " 8   total day calls         3333 non-null   int64  \n",
      " 9   total day charge        3333 non-null   float64\n",
      " 10  total eve minutes       3333 non-null   float64\n",
      " 11  total eve calls         3333 non-null   int64  \n",
      " 12  total eve charge        3333 non-null   float64\n",
      " 13  total night minutes     3333 non-null   float64\n",
      " 14  total night calls       3333 non-null   int64  \n",
      " 15  total night charge      3333 non-null   float64\n",
      " 16  total intl minutes      3333 non-null   float64\n",
      " 17  total intl calls        3333 non-null   int64  \n",
      " 18  total intl charge       3333 non-null   float64\n",
      " 19  customer service calls  3333 non-null   int64  \n",
      " 20  churn                   3333 non-null   bool   \n",
      "dtypes: bool(1), float64(8), int64(8), object(4)\n",
      "memory usage: 524.2+ KB\n"
     ]
    }
   ],
   "source": [
    "df.info()"
   ]
  },
  {
   "cell_type": "code",
   "execution_count": 5,
   "metadata": {},
   "outputs": [
    {
     "data": {
      "text/plain": [
       "WV    0.031803\n",
       "MN    0.025203\n",
       "NY    0.024902\n",
       "AL    0.024002\n",
       "OH    0.023402\n",
       "OR    0.023402\n",
       "WI    0.023402\n",
       "WY    0.023102\n",
       "VA    0.023102\n",
       "CT    0.022202\n",
       "MI    0.021902\n",
       "VT    0.021902\n",
       "ID    0.021902\n",
       "TX    0.021602\n",
       "UT    0.021602\n",
       "IN    0.021302\n",
       "MD    0.021002\n",
       "KS    0.021002\n",
       "MT    0.020402\n",
       "NJ    0.020402\n",
       "NC    0.020402\n",
       "CO    0.019802\n",
       "NV    0.019802\n",
       "WA    0.019802\n",
       "MS    0.019502\n",
       "MA    0.019502\n",
       "RI    0.019502\n",
       "AZ    0.019202\n",
       "MO    0.018902\n",
       "FL    0.018902\n",
       "ND    0.018602\n",
       "ME    0.018602\n",
       "NM    0.018602\n",
       "DE    0.018302\n",
       "NE    0.018302\n",
       "OK    0.018302\n",
       "SC    0.018002\n",
       "SD    0.018002\n",
       "KY    0.017702\n",
       "IL    0.017402\n",
       "NH    0.016802\n",
       "AR    0.016502\n",
       "GA    0.016202\n",
       "DC    0.016202\n",
       "HI    0.015902\n",
       "TN    0.015902\n",
       "AK    0.015602\n",
       "LA    0.015302\n",
       "PA    0.013501\n",
       "IA    0.013201\n",
       "CA    0.010201\n",
       "Name: state, dtype: float64"
      ]
     },
     "execution_count": 5,
     "metadata": {},
     "output_type": "execute_result"
    }
   ],
   "source": [
    "df.state.value_counts(normalize=True)"
   ]
  },
  {
   "cell_type": "code",
   "execution_count": 6,
   "metadata": {},
   "outputs": [
    {
     "data": {
      "text/plain": [
       "Index(['state', 'account length', 'area code', 'phone number',\n",
       "       'international plan', 'voice mail plan', 'number vmail messages',\n",
       "       'total day minutes', 'total day calls', 'total day charge',\n",
       "       'total eve minutes', 'total eve calls', 'total eve charge',\n",
       "       'total night minutes', 'total night calls', 'total night charge',\n",
       "       'total intl minutes', 'total intl calls', 'total intl charge',\n",
       "       'customer service calls', 'churn'],\n",
       "      dtype='object')"
      ]
     },
     "execution_count": 6,
     "metadata": {},
     "output_type": "execute_result"
    }
   ],
   "source": [
    "df.columns"
   ]
  },
  {
   "cell_type": "code",
   "execution_count": 7,
   "metadata": {},
   "outputs": [],
   "source": [
    "df.columns = df.columns.str.replace(' ','_')"
   ]
  },
  {
   "cell_type": "code",
   "execution_count": 8,
   "metadata": {},
   "outputs": [
    {
     "data": {
      "text/plain": [
       "array([415, 408, 510])"
      ]
     },
     "execution_count": 8,
     "metadata": {},
     "output_type": "execute_result"
    }
   ],
   "source": [
    "df.area_code.unique()"
   ]
  },
  {
   "cell_type": "code",
   "execution_count": 9,
   "metadata": {},
   "outputs": [],
   "source": [
    "#sns.pairplot(df)"
   ]
  },
  {
   "cell_type": "code",
   "execution_count": 10,
   "metadata": {
    "scrolled": true
   },
   "outputs": [
    {
     "name": "stderr",
     "output_type": "stream",
     "text": [
      "/Users/dan/opt/anaconda3/envs/learn-env/lib/python3.8/site-packages/seaborn/_decorators.py:36: FutureWarning: Pass the following variables as keyword args: x, y. From version 0.12, the only valid positional argument will be `data`, and passing other arguments without an explicit keyword will result in an error or misinterpretation.\n",
      "  warnings.warn(\n"
     ]
    },
    {
     "data": {
      "text/plain": [
       "<AxesSubplot:>"
      ]
     },
     "execution_count": 10,
     "metadata": {},
     "output_type": "execute_result"
    },
    {
     "data": {
      "image/png": "[encoded data removed]",
      "text/plain": [
       "<Figure size 432x288 with 1 Axes>"
      ]
     },
     "metadata": {
      "needs_background": "light"
     },
     "output_type": "display_data"
    }
   ],
   "source": [
    "num_vmail_messages = df[\"number_vmail_messages\"].value_counts()\n",
    "\n",
    "sns.barplot(num_vmail_messages.index, num_vmail_messages.values, )\n"
   ]
  },
  {
   "cell_type": "code",
   "execution_count": 11,
   "metadata": {},
   "outputs": [],
   "source": [
    "# Dropping 'state' (51 unique values) since 'area_code' (3 unique values) still gives location data with much less noise\n",
    "# Dropping 'number_vmail_messages' to reduce noise since the binary value in 'voice_mail_plan' should suffice\n",
    "# Dropping 'phone_number' because there are 3333 unique values and should have no affect on predicting churn\n",
    "df.drop(['state', 'phone_number', 'number_vmail_messages'], axis=1, inplace=True)"
   ]
  },
  {
   "cell_type": "code",
   "execution_count": 12,
   "metadata": {},
   "outputs": [
    {
     "data": {
      "text/plain": [
       "Index(['account_length', 'area_code', 'international_plan', 'voice_mail_plan',\n",
       "       'total_day_minutes', 'total_day_calls', 'total_day_charge',\n",
       "       'total_eve_minutes', 'total_eve_calls', 'total_eve_charge',\n",
       "       'total_night_minutes', 'total_night_calls', 'total_night_charge',\n",
       "       'total_intl_minutes', 'total_intl_calls', 'total_intl_charge',\n",
       "       'customer_service_calls', 'churn'],\n",
       "      dtype='object')"
      ]
     },
     "execution_count": 12,
     "metadata": {},
     "output_type": "execute_result"
    }
   ],
   "source": [
    "df.columns"
   ]
  },
  {
   "cell_type": "code",
   "execution_count": 13,
   "metadata": {},
   "outputs": [],
   "source": [
    "# Dropping charges columns because of multicollinearity\n",
    "df.drop(['total_day_charge','total_eve_charge', 'total_night_charge', 'total_intl_charge'], axis=1, inplace=True)"
   ]
  },
  {
   "cell_type": "code",
   "execution_count": 14,
   "metadata": {},
   "outputs": [
    {
     "name": "stdout",
     "output_type": "stream",
     "text": [
      "<class 'pandas.core.frame.DataFrame'>\n",
      "RangeIndex: 3333 entries, 0 to 3332\n",
      "Data columns (total 14 columns):\n",
      " #   Column                  Non-Null Count  Dtype  \n",
      "---  ------                  --------------  -----  \n",
      " 0   account_length          3333 non-null   int64  \n",
      " 1   area_code               3333 non-null   int64  \n",
      " 2   international_plan      3333 non-null   object \n",
      " 3   voice_mail_plan         3333 non-null   object \n",
      " 4   total_day_minutes       3333 non-null   float64\n",
      " 5   total_day_calls         3333 non-null   int64  \n",
      " 6   total_eve_minutes       3333 non-null   float64\n",
      " 7   total_eve_calls         3333 non-null   int64  \n",
      " 8   total_night_minutes     3333 non-null   float64\n",
      " 9   total_night_calls       3333 non-null   int64  \n",
      " 10  total_intl_minutes      3333 non-null   float64\n",
      " 11  total_intl_calls        3333 non-null   int64  \n",
      " 12  customer_service_calls  3333 non-null   int64  \n",
      " 13  churn                   3333 non-null   bool   \n",
      "dtypes: bool(1), float64(4), int64(7), object(2)\n",
      "memory usage: 341.9+ KB\n"
     ]
    }
   ],
   "source": [
    "df.info()"
   ]
  },
  {
   "cell_type": "code",
   "execution_count": 15,
   "metadata": {},
   "outputs": [
    {
     "data": {
      "text/html": [
       "<div>\n",
       "<style scoped>\n",
       "    .dataframe tbody tr th:only-of-type {\n",
       "        vertical-align: middle;\n",
       "    }\n",
       "\n",
       "    .dataframe tbody tr th {\n",
       "        vertical-align: top;\n",
       "    }\n",
       "\n",
       "    .dataframe thead th {\n",
       "        text-align: right;\n",
       "    }\n",
       "</style>\n",
       "<table border=\"1\" class=\"dataframe\">\n",
       "  <thead>\n",
       "    <tr style=\"text-align: right;\">\n",
       "      <th></th>\n",
       "      <th>account_length</th>\n",
       "      <th>area_code</th>\n",
       "      <th>total_day_minutes</th>\n",
       "      <th>total_day_calls</th>\n",
       "      <th>total_eve_minutes</th>\n",
       "      <th>total_eve_calls</th>\n",
       "      <th>total_night_minutes</th>\n",
       "      <th>total_night_calls</th>\n",
       "      <th>total_intl_minutes</th>\n",
       "      <th>total_intl_calls</th>\n",
       "      <th>customer_service_calls</th>\n",
       "    </tr>\n",
       "  </thead>\n",
       "  <tbody>\n",
       "    <tr>\n",
       "      <th>count</th>\n",
       "      <td>3333.000000</td>\n",
       "      <td>3333.000000</td>\n",
       "      <td>3333.000000</td>\n",
       "      <td>3333.000000</td>\n",
       "      <td>3333.000000</td>\n",
       "      <td>3333.000000</td>\n",
       "      <td>3333.000000</td>\n",
       "      <td>3333.000000</td>\n",
       "      <td>3333.000000</td>\n",
       "      <td>3333.000000</td>\n",
       "      <td>3333.000000</td>\n",
       "    </tr>\n",
       "    <tr>\n",
       "      <th>mean</th>\n",
       "      <td>101.064806</td>\n",
       "      <td>437.182418</td>\n",
       "      <td>179.775098</td>\n",
       "      <td>100.435644</td>\n",
       "      <td>200.980348</td>\n",
       "      <td>100.114311</td>\n",
       "      <td>200.872037</td>\n",
       "      <td>100.107711</td>\n",
       "      <td>10.237294</td>\n",
       "      <td>4.479448</td>\n",
       "      <td>1.562856</td>\n",
       "    </tr>\n",
       "    <tr>\n",
       "      <th>std</th>\n",
       "      <td>39.822106</td>\n",
       "      <td>42.371290</td>\n",
       "      <td>54.467389</td>\n",
       "      <td>20.069084</td>\n",
       "      <td>50.713844</td>\n",
       "      <td>19.922625</td>\n",
       "      <td>50.573847</td>\n",
       "      <td>19.568609</td>\n",
       "      <td>2.791840</td>\n",
       "      <td>2.461214</td>\n",
       "      <td>1.315491</td>\n",
       "    </tr>\n",
       "    <tr>\n",
       "      <th>min</th>\n",
       "      <td>1.000000</td>\n",
       "      <td>408.000000</td>\n",
       "      <td>0.000000</td>\n",
       "      <td>0.000000</td>\n",
       "      <td>0.000000</td>\n",
       "      <td>0.000000</td>\n",
       "      <td>23.200000</td>\n",
       "      <td>33.000000</td>\n",
       "      <td>0.000000</td>\n",
       "      <td>0.000000</td>\n",
       "      <td>0.000000</td>\n",
       "    </tr>\n",
       "    <tr>\n",
       "      <th>25%</th>\n",
       "      <td>74.000000</td>\n",
       "      <td>408.000000</td>\n",
       "      <td>143.700000</td>\n",
       "      <td>87.000000</td>\n",
       "      <td>166.600000</td>\n",
       "      <td>87.000000</td>\n",
       "      <td>167.000000</td>\n",
       "      <td>87.000000</td>\n",
       "      <td>8.500000</td>\n",
       "      <td>3.000000</td>\n",
       "      <td>1.000000</td>\n",
       "    </tr>\n",
       "    <tr>\n",
       "      <th>50%</th>\n",
       "      <td>101.000000</td>\n",
       "      <td>415.000000</td>\n",
       "      <td>179.400000</td>\n",
       "      <td>101.000000</td>\n",
       "      <td>201.400000</td>\n",
       "      <td>100.000000</td>\n",
       "      <td>201.200000</td>\n",
       "      <td>100.000000</td>\n",
       "      <td>10.300000</td>\n",
       "      <td>4.000000</td>\n",
       "      <td>1.000000</td>\n",
       "    </tr>\n",
       "    <tr>\n",
       "      <th>75%</th>\n",
       "      <td>127.000000</td>\n",
       "      <td>510.000000</td>\n",
       "      <td>216.400000</td>\n",
       "      <td>114.000000</td>\n",
       "      <td>235.300000</td>\n",
       "      <td>114.000000</td>\n",
       "      <td>235.300000</td>\n",
       "      <td>113.000000</td>\n",
       "      <td>12.100000</td>\n",
       "      <td>6.000000</td>\n",
       "      <td>2.000000</td>\n",
       "    </tr>\n",
       "    <tr>\n",
       "      <th>max</th>\n",
       "      <td>243.000000</td>\n",
       "      <td>510.000000</td>\n",
       "      <td>350.800000</td>\n",
       "      <td>165.000000</td>\n",
       "      <td>363.700000</td>\n",
       "      <td>170.000000</td>\n",
       "      <td>395.000000</td>\n",
       "      <td>175.000000</td>\n",
       "      <td>20.000000</td>\n",
       "      <td>20.000000</td>\n",
       "      <td>9.000000</td>\n",
       "    </tr>\n",
       "  </tbody>\n",
       "</table>\n",
       "</div>"
      ],
      "text/plain": [
       "       account_length    area_code  total_day_minutes  total_day_calls  \\\n",
       "count     3333.000000  3333.000000        3333.000000      3333.000000   \n",
       "mean       101.064806   437.182418         179.775098       100.435644   \n",
       "std         39.822106    42.371290          54.467389        20.069084   \n",
       "min          1.000000   408.000000           0.000000         0.000000   \n",
       "25%         74.000000   408.000000         143.700000        87.000000   \n",
       "50%        101.000000   415.000000         179.400000       101.000000   \n",
       "75%        127.000000   510.000000         216.400000       114.000000   \n",
       "max        243.000000   510.000000         350.800000       165.000000   \n",
       "\n",
       "       total_eve_minutes  total_eve_calls  total_night_minutes  \\\n",
       "count        3333.000000      3333.000000          3333.000000   \n",
       "mean          200.980348       100.114311           200.872037   \n",
       "std            50.713844        19.922625            50.573847   \n",
       "min             0.000000         0.000000            23.200000   \n",
       "25%           166.600000        87.000000           167.000000   \n",
       "50%           201.400000       100.000000           201.200000   \n",
       "75%           235.300000       114.000000           235.300000   \n",
       "max           363.700000       170.000000           395.000000   \n",
       "\n",
       "       total_night_calls  total_intl_minutes  total_intl_calls  \\\n",
       "count        3333.000000         3333.000000       3333.000000   \n",
       "mean          100.107711           10.237294          4.479448   \n",
       "std            19.568609            2.791840          2.461214   \n",
       "min            33.000000            0.000000          0.000000   \n",
       "25%            87.000000            8.500000          3.000000   \n",
       "50%           100.000000           10.300000          4.000000   \n",
       "75%           113.000000           12.100000          6.000000   \n",
       "max           175.000000           20.000000         20.000000   \n",
       "\n",
       "       customer_service_calls  \n",
       "count             3333.000000  \n",
       "mean                 1.562856  \n",
       "std                  1.315491  \n",
       "min                  0.000000  \n",
       "25%                  1.000000  \n",
       "50%                  1.000000  \n",
       "75%                  2.000000  \n",
       "max                  9.000000  "
      ]
     },
     "execution_count": 15,
     "metadata": {},
     "output_type": "execute_result"
    }
   ],
   "source": [
    "df.describe()"
   ]
  },
  {
   "cell_type": "code",
   "execution_count": 47,
   "metadata": {},
   "outputs": [
    {
     "data": {
      "text/plain": [
       "False    0.855086\n",
       "True     0.144914\n",
       "Name: churn, dtype: float64"
      ]
     },
     "execution_count": 47,
     "metadata": {},
     "output_type": "execute_result"
    }
   ],
   "source": [
    "df['churn'].value_counts(normalize=True)"
   ]
  },
  {
   "cell_type": "code",
   "execution_count": 16,
   "metadata": {},
   "outputs": [],
   "source": [
    "# Define X and y\n",
    "X = df.drop('churn', axis=1)\n",
    "y = df['churn']"
   ]
  },
  {
   "cell_type": "code",
   "execution_count": 17,
   "metadata": {},
   "outputs": [],
   "source": [
    "# Train test split\n",
    "X_train, X_test, y_train, y_test = train_test_split(X, y, test_size=0.33, random_state=42)"
   ]
  },
  {
   "cell_type": "code",
   "execution_count": 18,
   "metadata": {},
   "outputs": [],
   "source": [
    "# One Hot Encode 'area_code,'  'international_plan', and 'voice_mail_plan'\n",
    "ohe = OneHotEncoder(sparse = False, drop='first')\n",
    "\n",
    "X_cats_train = ohe.fit_transform(X_train[['area_code', 'international_plan', 'voice_mail_plan']])\n",
    "X_cats_test = ohe.transform(X_test[['area_code', 'international_plan', 'voice_mail_plan']])"
   ]
  },
  {
   "cell_type": "code",
   "execution_count": 19,
   "metadata": {},
   "outputs": [
    {
     "data": {
      "text/plain": [
       "array(['x0_415', 'x0_510', 'x1_yes', 'x2_yes'], dtype=object)"
      ]
     },
     "execution_count": 19,
     "metadata": {},
     "output_type": "execute_result"
    }
   ],
   "source": [
    "ohe.get_feature_names()"
   ]
  },
  {
   "cell_type": "code",
   "execution_count": 20,
   "metadata": {},
   "outputs": [
    {
     "data": {
      "text/html": [
       "<div>\n",
       "<style scoped>\n",
       "    .dataframe tbody tr th:only-of-type {\n",
       "        vertical-align: middle;\n",
       "    }\n",
       "\n",
       "    .dataframe tbody tr th {\n",
       "        vertical-align: top;\n",
       "    }\n",
       "\n",
       "    .dataframe thead th {\n",
       "        text-align: right;\n",
       "    }\n",
       "</style>\n",
       "<table border=\"1\" class=\"dataframe\">\n",
       "  <thead>\n",
       "    <tr style=\"text-align: right;\">\n",
       "      <th></th>\n",
       "      <th>x0_415</th>\n",
       "      <th>x0_510</th>\n",
       "      <th>x1_yes</th>\n",
       "      <th>x2_yes</th>\n",
       "    </tr>\n",
       "  </thead>\n",
       "  <tbody>\n",
       "    <tr>\n",
       "      <th>0</th>\n",
       "      <td>1.0</td>\n",
       "      <td>0.0</td>\n",
       "      <td>0.0</td>\n",
       "      <td>0.0</td>\n",
       "    </tr>\n",
       "    <tr>\n",
       "      <th>1</th>\n",
       "      <td>1.0</td>\n",
       "      <td>0.0</td>\n",
       "      <td>0.0</td>\n",
       "      <td>1.0</td>\n",
       "    </tr>\n",
       "    <tr>\n",
       "      <th>2</th>\n",
       "      <td>0.0</td>\n",
       "      <td>1.0</td>\n",
       "      <td>0.0</td>\n",
       "      <td>1.0</td>\n",
       "    </tr>\n",
       "    <tr>\n",
       "      <th>3</th>\n",
       "      <td>0.0</td>\n",
       "      <td>0.0</td>\n",
       "      <td>1.0</td>\n",
       "      <td>1.0</td>\n",
       "    </tr>\n",
       "    <tr>\n",
       "      <th>4</th>\n",
       "      <td>0.0</td>\n",
       "      <td>1.0</td>\n",
       "      <td>0.0</td>\n",
       "      <td>0.0</td>\n",
       "    </tr>\n",
       "  </tbody>\n",
       "</table>\n",
       "</div>"
      ],
      "text/plain": [
       "   x0_415  x0_510  x1_yes  x2_yes\n",
       "0     1.0     0.0     0.0     0.0\n",
       "1     1.0     0.0     0.0     1.0\n",
       "2     0.0     1.0     0.0     1.0\n",
       "3     0.0     0.0     1.0     1.0\n",
       "4     0.0     1.0     0.0     0.0"
      ]
     },
     "execution_count": 20,
     "metadata": {},
     "output_type": "execute_result"
    }
   ],
   "source": [
    "# Back to a df\n",
    "X_cats_train = pd.DataFrame(X_cats_train, columns = ohe.get_feature_names())\n",
    "X_cats_test = pd.DataFrame(X_cats_test, columns = ohe.get_feature_names())\n",
    "\n",
    "X_cats_train.head()"
   ]
  },
  {
   "cell_type": "code",
   "execution_count": 21,
   "metadata": {},
   "outputs": [],
   "source": [
    "# Standard scale\n",
    "scaler = StandardScaler()\n",
    "\n",
    "X_num_train = scaler.fit_transform(X_train[[c for c in X.columns if X[c].dtype in (['int64'] or ['float64'])]])\n",
    "X_num_test = scaler.transform(X_test[[c for c in X.columns if X[c].dtype in (['int64'] or ['float64'])]])"
   ]
  },
  {
   "cell_type": "code",
   "execution_count": 22,
   "metadata": {},
   "outputs": [
    {
     "data": {
      "text/html": [
       "<div>\n",
       "<style scoped>\n",
       "    .dataframe tbody tr th:only-of-type {\n",
       "        vertical-align: middle;\n",
       "    }\n",
       "\n",
       "    .dataframe tbody tr th {\n",
       "        vertical-align: top;\n",
       "    }\n",
       "\n",
       "    .dataframe thead th {\n",
       "        text-align: right;\n",
       "    }\n",
       "</style>\n",
       "<table border=\"1\" class=\"dataframe\">\n",
       "  <thead>\n",
       "    <tr style=\"text-align: right;\">\n",
       "      <th></th>\n",
       "      <th>account_length</th>\n",
       "      <th>area_code</th>\n",
       "      <th>total_day_calls</th>\n",
       "      <th>total_eve_calls</th>\n",
       "      <th>total_night_calls</th>\n",
       "      <th>total_intl_calls</th>\n",
       "      <th>customer_service_calls</th>\n",
       "    </tr>\n",
       "  </thead>\n",
       "  <tbody>\n",
       "    <tr>\n",
       "      <th>0</th>\n",
       "      <td>-0.814990</td>\n",
       "      <td>-0.516215</td>\n",
       "      <td>0.314915</td>\n",
       "      <td>0.082753</td>\n",
       "      <td>0.364534</td>\n",
       "      <td>-0.593606</td>\n",
       "      <td>0.328493</td>\n",
       "    </tr>\n",
       "    <tr>\n",
       "      <th>1</th>\n",
       "      <td>0.764260</td>\n",
       "      <td>-0.516215</td>\n",
       "      <td>-2.034434</td>\n",
       "      <td>-1.116512</td>\n",
       "      <td>1.080998</td>\n",
       "      <td>-0.185627</td>\n",
       "      <td>-0.425386</td>\n",
       "    </tr>\n",
       "    <tr>\n",
       "      <th>2</th>\n",
       "      <td>-0.338708</td>\n",
       "      <td>1.738922</td>\n",
       "      <td>0.614832</td>\n",
       "      <td>-1.866052</td>\n",
       "      <td>-0.607810</td>\n",
       "      <td>-1.409563</td>\n",
       "      <td>1.082372</td>\n",
       "    </tr>\n",
       "    <tr>\n",
       "      <th>3</th>\n",
       "      <td>-0.138168</td>\n",
       "      <td>-0.682383</td>\n",
       "      <td>0.414887</td>\n",
       "      <td>-0.067155</td>\n",
       "      <td>-0.914865</td>\n",
       "      <td>-1.001584</td>\n",
       "      <td>-1.179266</td>\n",
       "    </tr>\n",
       "    <tr>\n",
       "      <th>4</th>\n",
       "      <td>1.541351</td>\n",
       "      <td>1.738922</td>\n",
       "      <td>0.814777</td>\n",
       "      <td>1.032170</td>\n",
       "      <td>-0.556634</td>\n",
       "      <td>2.670222</td>\n",
       "      <td>-0.425386</td>\n",
       "    </tr>\n",
       "  </tbody>\n",
       "</table>\n",
       "</div>"
      ],
      "text/plain": [
       "   account_length  area_code  total_day_calls  total_eve_calls  \\\n",
       "0       -0.814990  -0.516215         0.314915         0.082753   \n",
       "1        0.764260  -0.516215        -2.034434        -1.116512   \n",
       "2       -0.338708   1.738922         0.614832        -1.866052   \n",
       "3       -0.138168  -0.682383         0.414887        -0.067155   \n",
       "4        1.541351   1.738922         0.814777         1.032170   \n",
       "\n",
       "   total_night_calls  total_intl_calls  customer_service_calls  \n",
       "0           0.364534         -0.593606                0.328493  \n",
       "1           1.080998         -0.185627               -0.425386  \n",
       "2          -0.607810         -1.409563                1.082372  \n",
       "3          -0.914865         -1.001584               -1.179266  \n",
       "4          -0.556634          2.670222               -0.425386  "
      ]
     },
     "execution_count": 22,
     "metadata": {},
     "output_type": "execute_result"
    }
   ],
   "source": [
    "# Back to a df\n",
    "X_num_train = pd.DataFrame(X_num_train, columns=[c for c in X.columns if X[c].dtype in (['int64'] or ['float64'])])\n",
    "X_num_test = pd.DataFrame(X_num_test, columns=[c for c in X.columns if X[c].dtype in (['int64'] or ['float64'])])\n",
    "X_num_train.head()"
   ]
  },
  {
   "cell_type": "code",
   "execution_count": 23,
   "metadata": {},
   "outputs": [],
   "source": [
    "X_num_train.drop('area_code', axis=1, inplace=True)\n",
    "X_num_test.drop('area_code', axis=1, inplace=True)"
   ]
  },
  {
   "cell_type": "code",
   "execution_count": 24,
   "metadata": {},
   "outputs": [
    {
     "data": {
      "text/html": [
       "<div>\n",
       "<style scoped>\n",
       "    .dataframe tbody tr th:only-of-type {\n",
       "        vertical-align: middle;\n",
       "    }\n",
       "\n",
       "    .dataframe tbody tr th {\n",
       "        vertical-align: top;\n",
       "    }\n",
       "\n",
       "    .dataframe thead th {\n",
       "        text-align: right;\n",
       "    }\n",
       "</style>\n",
       "<table border=\"1\" class=\"dataframe\">\n",
       "  <thead>\n",
       "    <tr style=\"text-align: right;\">\n",
       "      <th></th>\n",
       "      <th>account_length</th>\n",
       "      <th>total_day_calls</th>\n",
       "      <th>total_eve_calls</th>\n",
       "      <th>total_night_calls</th>\n",
       "      <th>total_intl_calls</th>\n",
       "      <th>customer_service_calls</th>\n",
       "    </tr>\n",
       "  </thead>\n",
       "  <tbody>\n",
       "    <tr>\n",
       "      <th>0</th>\n",
       "      <td>-0.814990</td>\n",
       "      <td>0.314915</td>\n",
       "      <td>0.082753</td>\n",
       "      <td>0.364534</td>\n",
       "      <td>-0.593606</td>\n",
       "      <td>0.328493</td>\n",
       "    </tr>\n",
       "    <tr>\n",
       "      <th>1</th>\n",
       "      <td>0.764260</td>\n",
       "      <td>-2.034434</td>\n",
       "      <td>-1.116512</td>\n",
       "      <td>1.080998</td>\n",
       "      <td>-0.185627</td>\n",
       "      <td>-0.425386</td>\n",
       "    </tr>\n",
       "    <tr>\n",
       "      <th>2</th>\n",
       "      <td>-0.338708</td>\n",
       "      <td>0.614832</td>\n",
       "      <td>-1.866052</td>\n",
       "      <td>-0.607810</td>\n",
       "      <td>-1.409563</td>\n",
       "      <td>1.082372</td>\n",
       "    </tr>\n",
       "    <tr>\n",
       "      <th>3</th>\n",
       "      <td>-0.138168</td>\n",
       "      <td>0.414887</td>\n",
       "      <td>-0.067155</td>\n",
       "      <td>-0.914865</td>\n",
       "      <td>-1.001584</td>\n",
       "      <td>-1.179266</td>\n",
       "    </tr>\n",
       "    <tr>\n",
       "      <th>4</th>\n",
       "      <td>1.541351</td>\n",
       "      <td>0.814777</td>\n",
       "      <td>1.032170</td>\n",
       "      <td>-0.556634</td>\n",
       "      <td>2.670222</td>\n",
       "      <td>-0.425386</td>\n",
       "    </tr>\n",
       "  </tbody>\n",
       "</table>\n",
       "</div>"
      ],
      "text/plain": [
       "   account_length  total_day_calls  total_eve_calls  total_night_calls  \\\n",
       "0       -0.814990         0.314915         0.082753           0.364534   \n",
       "1        0.764260        -2.034434        -1.116512           1.080998   \n",
       "2       -0.338708         0.614832        -1.866052          -0.607810   \n",
       "3       -0.138168         0.414887        -0.067155          -0.914865   \n",
       "4        1.541351         0.814777         1.032170          -0.556634   \n",
       "\n",
       "   total_intl_calls  customer_service_calls  \n",
       "0         -0.593606                0.328493  \n",
       "1         -0.185627               -0.425386  \n",
       "2         -1.409563                1.082372  \n",
       "3         -1.001584               -1.179266  \n",
       "4          2.670222               -0.425386  "
      ]
     },
     "execution_count": 24,
     "metadata": {},
     "output_type": "execute_result"
    }
   ],
   "source": [
    "X_num_train.head()"
   ]
  },
  {
   "cell_type": "code",
   "execution_count": 25,
   "metadata": {
    "scrolled": true
   },
   "outputs": [
    {
     "data": {
      "text/html": [
       "<div>\n",
       "<style scoped>\n",
       "    .dataframe tbody tr th:only-of-type {\n",
       "        vertical-align: middle;\n",
       "    }\n",
       "\n",
       "    .dataframe tbody tr th {\n",
       "        vertical-align: top;\n",
       "    }\n",
       "\n",
       "    .dataframe thead th {\n",
       "        text-align: right;\n",
       "    }\n",
       "</style>\n",
       "<table border=\"1\" class=\"dataframe\">\n",
       "  <thead>\n",
       "    <tr style=\"text-align: right;\">\n",
       "      <th></th>\n",
       "      <th>account_length</th>\n",
       "      <th>total_day_calls</th>\n",
       "      <th>total_eve_calls</th>\n",
       "      <th>total_night_calls</th>\n",
       "      <th>total_intl_calls</th>\n",
       "      <th>customer_service_calls</th>\n",
       "      <th>x0_415</th>\n",
       "      <th>x0_510</th>\n",
       "      <th>x1_yes</th>\n",
       "      <th>x2_yes</th>\n",
       "    </tr>\n",
       "  </thead>\n",
       "  <tbody>\n",
       "    <tr>\n",
       "      <th>0</th>\n",
       "      <td>-0.814990</td>\n",
       "      <td>0.314915</td>\n",
       "      <td>0.082753</td>\n",
       "      <td>0.364534</td>\n",
       "      <td>-0.593606</td>\n",
       "      <td>0.328493</td>\n",
       "      <td>1.0</td>\n",
       "      <td>0.0</td>\n",
       "      <td>0.0</td>\n",
       "      <td>0.0</td>\n",
       "    </tr>\n",
       "    <tr>\n",
       "      <th>1</th>\n",
       "      <td>0.764260</td>\n",
       "      <td>-2.034434</td>\n",
       "      <td>-1.116512</td>\n",
       "      <td>1.080998</td>\n",
       "      <td>-0.185627</td>\n",
       "      <td>-0.425386</td>\n",
       "      <td>1.0</td>\n",
       "      <td>0.0</td>\n",
       "      <td>0.0</td>\n",
       "      <td>1.0</td>\n",
       "    </tr>\n",
       "    <tr>\n",
       "      <th>2</th>\n",
       "      <td>-0.338708</td>\n",
       "      <td>0.614832</td>\n",
       "      <td>-1.866052</td>\n",
       "      <td>-0.607810</td>\n",
       "      <td>-1.409563</td>\n",
       "      <td>1.082372</td>\n",
       "      <td>0.0</td>\n",
       "      <td>1.0</td>\n",
       "      <td>0.0</td>\n",
       "      <td>1.0</td>\n",
       "    </tr>\n",
       "    <tr>\n",
       "      <th>3</th>\n",
       "      <td>-0.138168</td>\n",
       "      <td>0.414887</td>\n",
       "      <td>-0.067155</td>\n",
       "      <td>-0.914865</td>\n",
       "      <td>-1.001584</td>\n",
       "      <td>-1.179266</td>\n",
       "      <td>0.0</td>\n",
       "      <td>0.0</td>\n",
       "      <td>1.0</td>\n",
       "      <td>1.0</td>\n",
       "    </tr>\n",
       "    <tr>\n",
       "      <th>4</th>\n",
       "      <td>1.541351</td>\n",
       "      <td>0.814777</td>\n",
       "      <td>1.032170</td>\n",
       "      <td>-0.556634</td>\n",
       "      <td>2.670222</td>\n",
       "      <td>-0.425386</td>\n",
       "      <td>0.0</td>\n",
       "      <td>1.0</td>\n",
       "      <td>0.0</td>\n",
       "      <td>0.0</td>\n",
       "    </tr>\n",
       "  </tbody>\n",
       "</table>\n",
       "</div>"
      ],
      "text/plain": [
       "   account_length  total_day_calls  total_eve_calls  total_night_calls  \\\n",
       "0       -0.814990         0.314915         0.082753           0.364534   \n",
       "1        0.764260        -2.034434        -1.116512           1.080998   \n",
       "2       -0.338708         0.614832        -1.866052          -0.607810   \n",
       "3       -0.138168         0.414887        -0.067155          -0.914865   \n",
       "4        1.541351         0.814777         1.032170          -0.556634   \n",
       "\n",
       "   total_intl_calls  customer_service_calls  x0_415  x0_510  x1_yes  x2_yes  \n",
       "0         -0.593606                0.328493     1.0     0.0     0.0     0.0  \n",
       "1         -0.185627               -0.425386     1.0     0.0     0.0     1.0  \n",
       "2         -1.409563                1.082372     0.0     1.0     0.0     1.0  \n",
       "3         -1.001584               -1.179266     0.0     0.0     1.0     1.0  \n",
       "4          2.670222               -0.425386     0.0     1.0     0.0     0.0  "
      ]
     },
     "execution_count": 25,
     "metadata": {},
     "output_type": "execute_result"
    }
   ],
   "source": [
    "# put X back together\n",
    "X_train_processed = pd.concat([X_num_train, X_cats_train], axis=1)\n",
    "X_test_processed = pd.concat([X_num_test, X_cats_test], axis=1)\n",
    "\n",
    "X_train_processed.head()"
   ]
  },
  {
   "cell_type": "markdown",
   "metadata": {},
   "source": [
    "### Logistic Regression Model"
   ]
  },
  {
   "cell_type": "code",
   "execution_count": 26,
   "metadata": {},
   "outputs": [
    {
     "data": {
      "text/plain": [
       "LogisticRegression(class_weight='balanced')"
      ]
     },
     "execution_count": 26,
     "metadata": {},
     "output_type": "execute_result"
    }
   ],
   "source": [
    "# Instantiate and fit our model\n",
    "logreg = LogisticRegression(class_weight='balanced')\n",
    "\n",
    "logreg.fit(X_train_processed, y_train)"
   ]
  },
  {
   "cell_type": "code",
   "execution_count": 27,
   "metadata": {},
   "outputs": [
    {
     "data": {
      "text/plain": [
       "array([[ 0.05389734,  0.04227399,  0.03065284,  0.06313797, -0.13013144,\n",
       "         0.52637193, -0.04148489,  0.14560768,  2.12542236, -0.95186353]])"
      ]
     },
     "execution_count": 27,
     "metadata": {},
     "output_type": "execute_result"
    }
   ],
   "source": [
    "logreg.coef_"
   ]
  },
  {
   "cell_type": "code",
   "execution_count": 28,
   "metadata": {},
   "outputs": [
    {
     "data": {
      "text/plain": [
       "array([-0.24316678])"
      ]
     },
     "execution_count": 28,
     "metadata": {},
     "output_type": "execute_result"
    }
   ],
   "source": [
    "logreg.intercept_"
   ]
  },
  {
   "cell_type": "code",
   "execution_count": 29,
   "metadata": {},
   "outputs": [],
   "source": [
    "def evaluate(estimator, X_train, X_test, y_train, y_test, roc_auc='proba'):\n",
    "    '''\n",
    "    Evaluation function to show a few scores for both the train and test set\n",
    "    Also shows a confusion matrix for the test set\n",
    "    \n",
    "    roc_auc allows you to set how to calculate the roc_auc score: \n",
    "    'dec' for decision_function or 'proba' for predict_proba \n",
    "    If roc_auc == 'skip', then it ignores calculating the roc_auc_score\n",
    "    '''\n",
    "    # grab predictions\n",
    "    train_preds = estimator.predict(X_train)\n",
    "    test_preds = estimator.predict(X_test)\n",
    "    \n",
    "    # output needed for roc_auc_score\n",
    "    if roc_auc == 'skip': # skips calculating the roc_auc_score\n",
    "        train_out = False\n",
    "        test_out = False\n",
    "    elif roc_auc == 'dec': # not all classifiers have decision_function\n",
    "        train_out = estimator.decision_function(X_train)\n",
    "        test_out = estimator.decision_function(X_test)\n",
    "    elif roc_auc == 'proba':\n",
    "        train_out = estimator.predict_proba(X_train)[:, 1] # proba for the 1 class\n",
    "        test_out = estimator.predict_proba(X_test)[:, 1]\n",
    "    else:\n",
    "        raise Exception(\"The value for roc_auc should be 'skip', 'dec' or 'proba'.\")\n",
    "    \n",
    "    # print scores\n",
    "    print(\"Train Scores\")\n",
    "    print(\"------------\")  \n",
    "    print(f\"Accuracy: {accuracy_score(y_train, train_preds)}\")\n",
    "    print(f\"Precision: {precision_score(y_train, train_preds)}\")\n",
    "    print(f\"Recall: {recall_score(y_train, train_preds)}\")\n",
    "    print(f\"F1 Score: {f1_score(y_train, train_preds)}\")\n",
    "    if type(train_out) == np.ndarray: # checking for roc_auc\n",
    "        print(f\"ROC-AUC: {roc_auc_score(y_train, train_out)}\")\n",
    "    print(\"----\" * 5)\n",
    "    print(\"Test Scores\")\n",
    "    print(\"-----------\")\n",
    "    print(f\"Accuracy: {accuracy_score(y_test, test_preds)}\")\n",
    "    print(f\"Precision: {precision_score(y_test, test_preds)}\")\n",
    "    print(f\"Recall: {recall_score(y_test, test_preds)}\")\n",
    "    print(f\"F1 Score: {f1_score(y_test, test_preds)}\")\n",
    "    if type(test_out) == np.ndarray:\n",
    "        print(f\"ROC-AUC: {roc_auc_score(y_test, test_out)}\")\n",
    "    \n",
    "    # plot test confusion matrix\n",
    "    plot_confusion_matrix(estimator, X_test, y_test, values_format=',.5g')\n",
    "    plt.grid(None)\n",
    "    plt.show()"
   ]
  },
  {
   "cell_type": "markdown",
   "metadata": {},
   "source": [
    "[Link](https://www.google.com/)"
   ]
  },
  {
   "cell_type": "code",
   "execution_count": 30,
   "metadata": {},
   "outputs": [
    {
     "name": "stdout",
     "output_type": "stream",
     "text": [
      "Train Scores\n",
      "------------\n",
      "Accuracy: 0.7308553515450067\n",
      "Precision: 0.2931547619047619\n",
      "Recall: 0.6099071207430341\n",
      "F1 Score: 0.39597989949748746\n",
      "ROC-AUC: 0.7445236898837794\n",
      "--------------------\n",
      "Test Scores\n",
      "-----------\n",
      "Accuracy: 0.7190909090909091\n",
      "Precision: 0.28023598820059\n",
      "Recall: 0.59375\n",
      "F1 Score: 0.3807615230460922\n",
      "ROC-AUC: 0.7403989361702128\n"
     ]
    },
    {
     "data": {
      "image/png": "[encoded data removed]",
      "text/plain": [
       "<Figure size 432x288 with 2 Axes>"
      ]
     },
     "metadata": {
      "needs_background": "light"
     },
     "output_type": "display_data"
    }
   ],
   "source": [
    "evaluate(logreg, X_train_processed, X_test_processed, y_train, y_test, roc_auc='proba')"
   ]
  },
  {
   "cell_type": "code",
   "execution_count": 31,
   "metadata": {
    "scrolled": true
   },
   "outputs": [
    {
     "data": {
      "text/plain": [
       "KNeighborsClassifier(n_neighbors=3)"
      ]
     },
     "execution_count": 31,
     "metadata": {},
     "output_type": "execute_result"
    }
   ],
   "source": [
    "from sklearn.neighbors import KNeighborsClassifier\n",
    "knn = KNeighborsClassifier(n_neighbors=3)\n",
    "knn.fit(X_train_processed, y_train)"
   ]
  },
  {
   "cell_type": "code",
   "execution_count": 32,
   "metadata": {},
   "outputs": [
    {
     "name": "stdout",
     "output_type": "stream",
     "text": [
      "Train Scores\n",
      "------------\n",
      "Accuracy: 0.8943125839677564\n",
      "Precision: 0.7919463087248322\n",
      "Recall: 0.3653250773993808\n",
      "F1 Score: 0.5\n",
      "ROC-AUC: 0.9292869531389298\n",
      "--------------------\n",
      "Test Scores\n",
      "-----------\n",
      "Accuracy: 0.8454545454545455\n",
      "Precision: 0.4107142857142857\n",
      "Recall: 0.14375\n",
      "F1 Score: 0.21296296296296297\n",
      "ROC-AUC: 0.5930784574468085\n"
     ]
    },
    {
     "data": {
      "image/png": "[encoded data removed]",
      "text/plain": [
       "<Figure size 432x288 with 2 Axes>"
      ]
     },
     "metadata": {
      "needs_background": "light"
     },
     "output_type": "display_data"
    }
   ],
   "source": [
    "evaluate(knn, X_train_processed, X_test_processed, y_train, y_test, roc_auc='proba')"
   ]
  },
  {
   "cell_type": "code",
   "execution_count": 33,
   "metadata": {},
   "outputs": [
    {
     "name": "stdout",
     "output_type": "stream",
     "text": [
      "Train Scores\n",
      "------------\n",
      "Accuracy: 0.8781907747424988\n",
      "Precision: 0.8\n",
      "Recall: 0.21052631578947367\n",
      "F1 Score: 0.3333333333333333\n",
      "ROC-AUC: 0.8873300050248811\n",
      "--------------------\n",
      "Test Scores\n",
      "-----------\n",
      "Accuracy: 0.8572727272727273\n",
      "Precision: 0.5405405405405406\n",
      "Recall: 0.125\n",
      "F1 Score: 0.20304568527918782\n",
      "ROC-AUC: 0.6303025265957447\n"
     ]
    },
    {
     "data": {
      "image/png": "[encoded data removed]",
      "text/plain": [
       "<Figure size 432x288 with 2 Axes>"
      ]
     },
     "metadata": {
      "needs_background": "light"
     },
     "output_type": "display_data"
    }
   ],
   "source": [
    "knn_2 = KNeighborsClassifier(n_neighbors=5)\n",
    "knn_2.fit(X_train_processed, y_train)\n",
    "evaluate(knn_2, X_train_processed, X_test_processed, y_train, y_test, roc_auc='proba')"
   ]
  },
  {
   "cell_type": "code",
   "execution_count": 34,
   "metadata": {},
   "outputs": [
    {
     "name": "stdout",
     "output_type": "stream",
     "text": [
      "Train Scores\n",
      "------------\n",
      "Accuracy: 1.0\n",
      "Precision: 1.0\n",
      "Recall: 1.0\n",
      "F1 Score: 1.0\n",
      "ROC-AUC: 1.0\n",
      "--------------------\n",
      "Test Scores\n",
      "-----------\n",
      "Accuracy: 0.8427272727272728\n",
      "Precision: 0.38596491228070173\n",
      "Recall: 0.1375\n",
      "F1 Score: 0.20276497695852533\n",
      "ROC-AUC: 0.5976529255319148\n"
     ]
    },
    {
     "data": {
      "image/png": "[encoded data removed]",
      "text/plain": [
       "<Figure size 432x288 with 2 Axes>"
      ]
     },
     "metadata": {
      "needs_background": "light"
     },
     "output_type": "display_data"
    }
   ],
   "source": [
    "knn_3 = KNeighborsClassifier(n_neighbors=3, weights='distance')\n",
    "knn_3.fit(X_train_processed, y_train)\n",
    "evaluate(knn_3, X_train_processed, X_test_processed, y_train, y_test, roc_auc='proba')"
   ]
  },
  {
   "cell_type": "code",
   "execution_count": 35,
   "metadata": {},
   "outputs": [
    {
     "name": "stdout",
     "output_type": "stream",
     "text": [
      "Train Scores\n",
      "------------\n",
      "Accuracy: 1.0\n",
      "Precision: 1.0\n",
      "Recall: 1.0\n",
      "F1 Score: 1.0\n",
      "ROC-AUC: 1.0\n",
      "--------------------\n",
      "Test Scores\n",
      "-----------\n",
      "Accuracy: 0.81\n",
      "Precision: 0.3310344827586207\n",
      "Recall: 0.3\n",
      "F1 Score: 0.3147540983606557\n",
      "ROC-AUC: 0.598404255319149\n"
     ]
    },
    {
     "data": {
      "image/png": "[encoded data removed]",
      "text/plain": [
       "<Figure size 432x288 with 2 Axes>"
      ]
     },
     "metadata": {
      "needs_background": "light"
     },
     "output_type": "display_data"
    }
   ],
   "source": [
    "from sklearn.tree import DecisionTreeClassifier\n",
    "dt = DecisionTreeClassifier(class_weight='balanced')\n",
    "dt.fit(X_train_processed, y_train)\n",
    "evaluate(dt, X_train_processed, X_test_processed, y_train, y_test, roc_auc='proba')"
   ]
  },
  {
   "cell_type": "code",
   "execution_count": 36,
   "metadata": {},
   "outputs": [
    {
     "name": "stdout",
     "output_type": "stream",
     "text": [
      "Train Scores\n",
      "------------\n",
      "Accuracy: 0.8571428571428571\n",
      "Precision: 0.5056497175141242\n",
      "Recall: 0.5541795665634675\n",
      "F1 Score: 0.5288035450516986\n",
      "ROC-AUC: 0.8073817126740473\n",
      "--------------------\n",
      "Test Scores\n",
      "-----------\n",
      "Accuracy: 0.8254545454545454\n",
      "Precision: 0.4090909090909091\n",
      "Recall: 0.45\n",
      "F1 Score: 0.4285714285714286\n",
      "ROC-AUC: 0.7179787234042553\n"
     ]
    },
    {
     "data": {
      "image/png": "[encoded data removed]",
      "text/plain": [
       "<Figure size 432x288 with 2 Axes>"
      ]
     },
     "metadata": {
      "needs_background": "light"
     },
     "output_type": "display_data"
    }
   ],
   "source": [
    "dt_2 = DecisionTreeClassifier(max_depth=5, class_weight='balanced')\n",
    "dt_2.fit(X_train_processed, y_train)\n",
    "evaluate(dt_2, X_train_processed, X_test_processed, y_train, y_test, roc_auc='proba')"
   ]
  },
  {
   "cell_type": "code",
   "execution_count": 37,
   "metadata": {},
   "outputs": [
    {
     "name": "stdout",
     "output_type": "stream",
     "text": [
      "Train Scores\n",
      "------------\n",
      "Accuracy: 0.8705776981639051\n",
      "Precision: 0.5472222222222223\n",
      "Recall: 0.6099071207430341\n",
      "F1 Score: 0.5768667642752563\n",
      "ROC-AUC: 0.8599492649084985\n",
      "--------------------\n",
      "Test Scores\n",
      "-----------\n",
      "Accuracy: 0.8027272727272727\n",
      "Precision: 0.3492063492063492\n",
      "Recall: 0.4125\n",
      "F1 Score: 0.3782234957020057\n",
      "ROC-AUC: 0.6413397606382978\n"
     ]
    },
    {
     "data": {
      "image/png": "[encoded data removed]",
      "text/plain": [
       "<Figure size 432x288 with 2 Axes>"
      ]
     },
     "metadata": {
      "needs_background": "light"
     },
     "output_type": "display_data"
    }
   ],
   "source": [
    "dt_3 = DecisionTreeClassifier(max_depth=7, class_weight='balanced')\n",
    "dt_3.fit(X_train_processed, y_train)\n",
    "evaluate(dt_3, X_train_processed, X_test_processed, y_train, y_test, roc_auc='proba')"
   ]
  },
  {
   "cell_type": "code",
   "execution_count": 38,
   "metadata": {},
   "outputs": [
    {
     "name": "stdout",
     "output_type": "stream",
     "text": [
      "Train Scores\n",
      "------------\n",
      "Accuracy: 0.8575906851768921\n",
      "Precision: 0.5072886297376094\n",
      "Recall: 0.5386996904024768\n",
      "F1 Score: 0.5225225225225225\n",
      "ROC-AUC: 0.8567390141507141\n",
      "--------------------\n",
      "Test Scores\n",
      "-----------\n",
      "Accuracy: 0.84\n",
      "Precision: 0.4550561797752809\n",
      "Recall: 0.50625\n",
      "F1 Score: 0.4792899408284023\n",
      "ROC-AUC: 0.7572007978723405\n"
     ]
    },
    {
     "data": {
      "image/png": "[encoded data removed]",
      "text/plain": [
       "<Figure size 432x288 with 2 Axes>"
      ]
     },
     "metadata": {
      "needs_background": "light"
     },
     "output_type": "display_data"
    }
   ],
   "source": [
    "from sklearn.ensemble import RandomForestClassifier\n",
    "\n",
    "rf = RandomForestClassifier(max_depth=5, n_estimators=100, random_state=42, class_weight='balanced')\n",
    "rf.fit(X_train_processed, y_train)\n",
    "evaluate(rf, X_train_processed, X_test_processed, y_train, y_test, roc_auc='proba')"
   ]
  },
  {
   "cell_type": "code",
   "execution_count": 39,
   "metadata": {},
   "outputs": [
    {
     "name": "stdout",
     "output_type": "stream",
     "text": [
      "Train Scores\n",
      "------------\n",
      "Accuracy: 0.877742946708464\n",
      "Precision: 0.6838235294117647\n",
      "Recall: 0.28792569659442724\n",
      "F1 Score: 0.40522875816993464\n",
      "ROC-AUC: 0.8280590990874168\n",
      "--------------------\n",
      "Test Scores\n",
      "-----------\n",
      "Accuracy: 0.8618181818181818\n",
      "Precision: 0.5606060606060606\n",
      "Recall: 0.23125\n",
      "F1 Score: 0.32743362831858414\n",
      "ROC-AUC: 0.7003922872340425\n"
     ]
    },
    {
     "data": {
      "image/png": "[encoded data removed]",
      "text/plain": [
       "<Figure size 432x288 with 2 Axes>"
      ]
     },
     "metadata": {
      "needs_background": "light"
     },
     "output_type": "display_data"
    }
   ],
   "source": [
    "from sklearn.ensemble import AdaBoostClassifier\n",
    "\n",
    "ada = AdaBoostClassifier(random_state=42, n_estimators=50)\n",
    "ada.fit(X_train_processed, y_train)\n",
    "evaluate(ada, X_train_processed, X_test_processed, y_train, y_test, roc_auc='proba')"
   ]
  },
  {
   "cell_type": "code",
   "execution_count": 40,
   "metadata": {},
   "outputs": [
    {
     "name": "stdout",
     "output_type": "stream",
     "text": [
      "Train Scores\n",
      "------------\n",
      "Accuracy: 0.9081952530228392\n",
      "Precision: 0.927536231884058\n",
      "Recall: 0.39628482972136225\n",
      "F1 Score: 0.5553145336225597\n",
      "ROC-AUC: 0.8315594962151298\n",
      "--------------------\n",
      "Test Scores\n",
      "-----------\n",
      "Accuracy: 0.8709090909090909\n",
      "Precision: 0.6363636363636364\n",
      "Recall: 0.2625\n",
      "F1 Score: 0.3716814159292035\n",
      "ROC-AUC: 0.7600398936170213\n"
     ]
    },
    {
     "data": {
      "image/png": "[encoded data removed]",
      "text/plain": [
       "<Figure size 432x288 with 2 Axes>"
      ]
     },
     "metadata": {
      "needs_background": "light"
     },
     "output_type": "display_data"
    }
   ],
   "source": [
    "import xgboost as xgb\n",
    "xgb = xgb.XGBClassifier(random_state=1, learning_rate=0.01)\n",
    "xgb.fit(X_train_processed, y_train)\n",
    "evaluate(xgb, X_train_processed, X_test_processed, y_train, y_test, roc_auc='proba')"
   ]
  },
  {
   "cell_type": "code",
   "execution_count": 41,
   "metadata": {},
   "outputs": [
    {
     "name": "stdout",
     "output_type": "stream",
     "text": [
      "Train Scores\n",
      "------------\n",
      "Accuracy: 0.9055082848186297\n",
      "Precision: 0.9117647058823529\n",
      "Recall: 0.38390092879256965\n",
      "F1 Score: 0.5403050108932462\n",
      "ROC-AUC: 0.8763392929505778\n",
      "--------------------\n",
      "Test Scores\n",
      "-----------\n",
      "Accuracy: 0.8690909090909091\n",
      "Precision: 0.6481481481481481\n",
      "Recall: 0.21875\n",
      "F1 Score: 0.3271028037383178\n",
      "ROC-AUC: 0.7366422872340426\n"
     ]
    },
    {
     "data": {
      "image/png": "[encoded data removed]",
      "text/plain": [
       "<Figure size 432x288 with 2 Axes>"
      ]
     },
     "metadata": {
      "needs_background": "light"
     },
     "output_type": "display_data"
    }
   ],
   "source": [
    "from sklearn.ensemble import GradientBoostingClassifier\n",
    "\n",
    "gbm = GradientBoostingClassifier(learning_rate=0.1, random_state=42)\n",
    "gbm.fit(X_train_processed, y_train)\n",
    "evaluate(gbm, X_train_processed, X_test_processed, y_train, y_test, roc_auc='proba')"
   ]
  },
  {
   "cell_type": "code",
   "execution_count": 42,
   "metadata": {},
   "outputs": [
    {
     "data": {
      "text/plain": [
       "GridSearchCV(estimator=RandomForestClassifier(class_weight='balanced'),\n",
       "             param_grid={'max_depth': [None, 1, 5],\n",
       "                         'max_leaf_nodes': [10, 50, 75],\n",
       "                         'n_estimators': [250, 500, 750]},\n",
       "             scoring='f1_macro')"
      ]
     },
     "execution_count": 42,
     "metadata": {},
     "output_type": "execute_result"
    }
   ],
   "source": [
    "from sklearn.model_selection import GridSearchCV\n",
    "\n",
    "parameters = {\n",
    "    'n_estimators': [250, 500, 750],\n",
    "    'max_depth': [None, 1, 5],\n",
    "    'max_leaf_nodes': [10, 50, 75],\n",
    "}\n",
    "\n",
    "rf_gridsearch = RandomForestClassifier(class_weight='balanced')\n",
    "\n",
    "# Instantiate gridsearch\n",
    "clf = GridSearchCV(rf_gridsearch, parameters, scoring='f1_macro')\n",
    "\n",
    "clf.fit(X_train_processed, y_train)"
   ]
  },
  {
   "cell_type": "code",
   "execution_count": 43,
   "metadata": {},
   "outputs": [
    {
     "data": {
      "text/plain": [
       "0.7133292381409436"
      ]
     },
     "execution_count": 43,
     "metadata": {},
     "output_type": "execute_result"
    }
   ],
   "source": [
    "clf.best_score_"
   ]
  },
  {
   "cell_type": "code",
   "execution_count": 44,
   "metadata": {},
   "outputs": [
    {
     "data": {
      "text/plain": [
       "RandomForestClassifier(class_weight='balanced', max_leaf_nodes=75,\n",
       "                       n_estimators=500)"
      ]
     },
     "execution_count": 44,
     "metadata": {},
     "output_type": "execute_result"
    }
   ],
   "source": [
    "clf.best_estimator_"
   ]
  },
  {
   "cell_type": "code",
   "execution_count": 45,
   "metadata": {
    "scrolled": true
   },
   "outputs": [
    {
     "data": {
      "text/plain": [
       "{'max_depth': None, 'max_leaf_nodes': 75, 'n_estimators': 500}"
      ]
     },
     "execution_count": 45,
     "metadata": {},
     "output_type": "execute_result"
    }
   ],
   "source": [
    "clf.best_params_"
   ]
  },
  {
   "cell_type": "code",
   "execution_count": 46,
   "metadata": {
    "scrolled": true
   },
   "outputs": [
    {
     "name": "stdout",
     "output_type": "stream",
     "text": [
      "Train Scores\n",
      "------------\n",
      "Accuracy: 0.9023734885803851\n",
      "Precision: 0.6370757180156658\n",
      "Recall: 0.7554179566563467\n",
      "F1 Score: 0.6912181303116147\n",
      "ROC-AUC: 0.9627348321527563\n",
      "--------------------\n",
      "Test Scores\n",
      "-----------\n",
      "Accuracy: 0.8463636363636363\n",
      "Precision: 0.47337278106508873\n",
      "Recall: 0.5\n",
      "F1 Score: 0.48632218844984804\n",
      "ROC-AUC: 0.7504188829787234\n"
     ]
    },
    {
     "data": {
      "image/png": "[encoded data removed]",
      "text/plain": [
       "<Figure size 432x288 with 2 Axes>"
      ]
     },
     "metadata": {
      "needs_background": "light"
     },
     "output_type": "display_data"
    }
   ],
   "source": [
    "rf_best = RandomForestClassifier(max_depth=None, max_leaf_nodes=75, n_estimators=500, random_state=42, class_weight='balanced')\n",
    "rf_best.fit(X_train_processed, y_train)\n",
    "evaluate(rf_best, X_train_processed, X_test_processed, y_train, y_test, roc_auc='proba')"
   ]
  },
  {
   "cell_type": "code",
   "execution_count": null,
   "metadata": {},
   "outputs": [],
   "source": []
  }
 ],
 "metadata": {
  "kernelspec": {
   "display_name": "Python 3",
   "language": "python",
   "name": "python3"
  },
  "language_info": {
   "codemirror_mode": {
    "name": "ipython",
    "version": 3
   },
   "file_extension": ".py",
   "mimetype": "text/x-python",
   "name": "python",
   "nbconvert_exporter": "python",
   "pygments_lexer": "ipython3",
   "version": "3.8.5"
  }
 },
 "nbformat": 4,
 "nbformat_minor": 4
}
